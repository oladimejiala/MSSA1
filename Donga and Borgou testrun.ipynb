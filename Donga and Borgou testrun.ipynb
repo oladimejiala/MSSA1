{
 "cells": [
  {
   "cell_type": "code",
   "execution_count": 2,
   "metadata": {},
   "outputs": [],
   "source": [
    "import numpy as np\n",
    "import pandas as pd\n",
    "import matplotlib.pyplot as plt\n",
    "from sklearn.model_selection import train_test_split\n",
    "from sklearn.metrics import r2_score, mean_squared_error\n",
    "from sklearn.linear_model import LinearRegression"
   ]
  },
  {
   "cell_type": "code",
   "execution_count": null,
   "metadata": {},
   "outputs": [],
   "source": [
    "mssa_df = pd.read_csv('https://api.ona.io/api/v1/export/2018227.csv?temp_token=5c4e38314566bd9c8c57f10df5c485806837722a')"
   ]
  }
 ],
 "metadata": {
  "interpreter": {
   "hash": "8b5f7dcfa6fd92f0a2f03199f2583fe734c8b076db4e169a8ab5421de96c932f"
  },
  "kernelspec": {
   "display_name": "Python 3.7.11 64-bit ('MSSA1 PSAC Benin  ML': conda)",
   "name": "python3"
  },
  "language_info": {
   "codemirror_mode": {
    "name": "ipython",
    "version": 3
   },
   "file_extension": ".py",
   "mimetype": "text/x-python",
   "name": "python",
   "nbconvert_exporter": "python",
   "pygments_lexer": "ipython3",
   "version": "3.7.11"
  },
  "orig_nbformat": 4
 },
 "nbformat": 4,
 "nbformat_minor": 2
}
