{
  "nbformat": 4,
  "nbformat_minor": 0,
  "metadata": {
    "colab": {
      "name": "Bembereke Prelim Analysis.ipynb",
      "private_outputs": true,
      "provenance": [],
      "mount_file_id": "1DqDqa3AEkQL_YDRItlb9Q9qTvzEx96d9",
      "authorship_tag": "ABX9TyOyJk85CAxM/EhNTgde34NC",
      "include_colab_link": true
    },
    "kernelspec": {
      "name": "python3",
      "display_name": "Python 3"
    },
    "language_info": {
      "name": "python"
    }
  },
  "cells": [
    {
      "cell_type": "markdown",
      "metadata": {
        "id": "view-in-github",
        "colab_type": "text"
      },
      "source": [
        "<a href=\"https://colab.research.google.com/github/oladimejiala/MSSA1/blob/main/Bembereke_Prelim_Analysis.ipynb\" target=\"_parent\"><img src=\"https://colab.research.google.com/assets/colab-badge.svg\" alt=\"Open In Colab\"/></a>"
      ]
    },
    {
      "cell_type": "markdown",
      "source": [
        "# ***Loading the python Libraries***"
      ],
      "metadata": {
        "id": "pCufnXWTmUgC"
      }
    },
    {
      "cell_type": "code",
      "source": [
        "import pandas_datareader as web\n",
        "import numpy as np\n",
        "import matplotlib.pyplot as plt\n",
        "%matplotlib inline\n",
        "import pandas as pd\n",
        "from sklearn.linear_model import LinearRegression, LogisticRegression\n",
        "from sklearn.preprocessing import MinMaxScaler, Binarizer, Normalizer, LabelBinarizer  \n",
        "import seaborn as sns\n",
        "import requests"
      ],
      "metadata": {
        "id": "b-wJZQ7GzOjK"
      },
      "execution_count": null,
      "outputs": []
    },
    {
      "cell_type": "markdown",
      "source": [
        "# **Data Bembereke Participant's Data from My Google Drive**"
      ],
      "metadata": {
        "id": "YTsZo8tAmhkI"
      }
    },
    {
      "cell_type": "code",
      "execution_count": null,
      "metadata": {
        "id": "FZ0hAddSsylq"
      },
      "outputs": [],
      "source": [
        "# # plotting stock price data\n",
        "# def test_run():\n",
        "#     df = pd.read_csv('https://api.ona.io/api/v1/export/2216667.csv?temp_token=128d825e31f02c66392258009f2647dc06552ee9')\n",
        "#     # df = pd.read_csv(\"data/AAPL.csv\")\n",
        "#     print (df[''])\n",
        "#     df['Adj Close'].plot()\n",
        "#     plt.show() #must be called to show plots\n",
        "#     sns.pairplot()\n",
        "\n",
        "# if __name__== \"__main__\":\n",
        "#     test_run()"
      ]
    },
    {
      "cell_type": "markdown",
      "source": [
        "#**Data visualization : Pairwise plotting of biometric parameters**"
      ],
      "metadata": {
        "id": "IObSILse9gS0"
      }
    },
    {
      "cell_type": "code",
      "source": [
        "bem = pd.read_csv('/content/Bembereke Cleaned Data 14th April.csv')"
      ],
      "metadata": {
        "id": "PgYjhoelO1qZ"
      },
      "execution_count": null,
      "outputs": []
    },
    {
      "cell_type": "code",
      "source": [
        "x_biometrics = bem[['Taille','Poids','MUAC','Waist_Circumf.']]\n",
        "sns.pairplot(x_biometrics)"
      ],
      "metadata": {
        "id": "WmweA-c1TwUm"
      },
      "execution_count": null,
      "outputs": []
    },
    {
      "cell_type": "code",
      "source": [
        "age_psac = bem['Age_PSAC'].values\n",
        "age_sac = bem['Age_SAC']\n",
        "# sns.pairplot(age_psac,age_sac)\n",
        "# psac_new = age_psac.copy()                                 # Create copy of DataFrame\n",
        "# psac_new = psac_new.fillna(psac_new.mean())            # Mean imputation\n",
        "# print(psac_new)                                        # Print updated DataFrame"
      ],
      "metadata": {
        "id": "bXiJYJXmfciA"
      },
      "execution_count": null,
      "outputs": []
    },
    {
      "cell_type": "markdown",
      "source": [
        "# ***Correlations between features***"
      ],
      "metadata": {
        "id": "zDConKtPoMk_"
      }
    },
    {
      "cell_type": "markdown",
      "source": [
        "There is strong correlation between participants height and waist circumference(0.7282), weight and waist circumference ( 0.7321), "
      ],
      "metadata": {
        "id": "_5yO2UjroZuy"
      }
    },
    {
      "cell_type": "code",
      "source": [
        "x_biometrics.corr()\n"
      ],
      "metadata": {
        "id": "rVYxVTdkkRs9"
      },
      "execution_count": null,
      "outputs": []
    },
    {
      "cell_type": "markdown",
      "source": [
        "# Body Mass Index of Participants \n",
        "---"
      ],
      "metadata": {
        "id": "5HEOGO19pFDS"
      }
    },
    {
      "cell_type": "code",
      "source": [
        "height_metres = x_biometrics['Taille']/100\n",
        "bmi = x_biometrics['Poids']/(height_metres)**2 # this is the body mass index of both preschool and schoo age children\n",
        "MUAC = x_biometrics['MUAC'].values\n",
        "plt.scatter(bmi, MUAC)\n",
        "plt.xlabel('Body Mass Index')\n",
        "plt.title('Body Mass Index vs MUAC')\n",
        "plt.ylabel('Mid Upper Arm Circumference')\n",
        "print(\" This is the mean Body Mass index:\", np.mean(bmi))"
      ],
      "metadata": {
        "id": "Msj2lPEink56"
      },
      "execution_count": null,
      "outputs": []
    },
    {
      "cell_type": "markdown",
      "source": [
        "# **Age, Sex, BMI, MUAC**"
      ],
      "metadata": {
        "id": "6NJ293B8xinY"
      }
    },
    {
      "cell_type": "code",
      "source": [
        "MUAC_df = x_biometrics['MUAC']\n",
        "waist_circ = x_biometrics['Waist_Circumf.']\n",
        "waist_circ.corr(MUAC_df)\n",
        "\n",
        "# plt.scatter(waist_circ, MUAC_df)\n",
        "\n",
        "# waist_muac = [[waist_circ, MUAC_df]]\n",
        "\n",
        "x_waist = waist_circ.values.reshape(-1, 1)\n",
        "y_MUAC_df = MUAC_df.values\n",
        "\n",
        "from sklearn.model_selection import train_test_split\n",
        "from sklearn.metrics import r2_score, mean_squared_error, accuracy_score\n",
        "x_train, x_test, y_train, y_test = train_test_split(x_waist, y_MUAC_df, test_size = 0.2, random_state = 0)\n",
        "\n",
        "lr = LinearRegression()\n",
        "model = lr.fit(x_train, y_train)\n",
        "another_method_prediction = model.predict(x_test)\n",
        "plt.plot(another_method_prediction)"
      ],
      "metadata": {
        "id": "Mpdw7Knd9BD1"
      },
      "execution_count": null,
      "outputs": []
    },
    {
      "cell_type": "code",
      "source": [
        "y_pred = lr.predict(x_test)\n",
        "y_pred\n",
        "# plt.plot(x_train, lr.predict(x_train), color = 'blue')\n",
        "# plt.scatter(x_test, y_test, color = 'red')\n",
        "plt.xlabel('Waist Circumference')\n",
        "plt.ylabel('Mid Upper Arm Circumference')\n",
        "plt.title('Waist Circumference and Mid Upper Arm Circumference Regression Model')\n",
        "print(\"Regression Score: %.2f \" % r2_score(y_test, y_pred))\n",
        "msq = mean_squared_error(y_test,y_pred)\n",
        "print(\"Mean Squared Error :\", msq)\n",
        "# print(\"R2 score : %.2f\" % r2_score(y_test,y_pred))\n",
        "\n",
        "# sns.regplot(x_train, y_train)\n",
        "sns.scatterplot(y_test,y_pred)\n",
        "# plt.plot(x_test, lr.predict(x_test), color = 'blue')"
      ],
      "metadata": {
        "id": "EMn-i7k2HFcH"
      },
      "execution_count": null,
      "outputs": []
    },
    {
      "cell_type": "markdown",
      "source": [
        "# ***Functional Model for Subsequent prediction***"
      ],
      "metadata": {
        "id": "KOkVQ56rtoaw"
      }
    },
    {
      "cell_type": "code",
      "source": [
        "from datetime import date\n",
        "today = date.today()\n",
        "new_x_waist = []\n",
        "new_y_MUAC = []\n",
        "\n",
        "def subs_prediction():\n",
        "    for i in range(len(y_test)):\n",
        "        new_pred = model.predict(new_x_waist)\n",
        "        print(\"Latest prediction as of today\", today)\n",
        "        print(\"New Accuracy Score is: %.2f\", r2_score(new_y_MUAC, new_pred)*100)\n",
        "\n",
        "\n",
        "if __name__ == '___main__':\n",
        "    subs_prediction()"
      ],
      "metadata": {
        "id": "zVHwKOqwtnO4"
      },
      "execution_count": null,
      "outputs": []
    },
    {
      "cell_type": "code",
      "source": [
        "# numpy to be used later\n",
        "np.corrcoef # correlation coeficient\n",
        "np.correlate # correlate np arrays"
      ],
      "metadata": {
        "id": "lt3rGgn8uR2L"
      },
      "execution_count": null,
      "outputs": []
    },
    {
      "cell_type": "code",
      "source": [
        "sns.regression.statsmodels"
      ],
      "metadata": {
        "id": "xb6Q29Xh697N"
      },
      "execution_count": null,
      "outputs": []
    },
    {
      "cell_type": "markdown",
      "source": [
        "#**Preprocessing Urological Features**"
      ],
      "metadata": {
        "id": "dCRJMnrc_ayO"
      }
    },
    {
      "cell_type": "code",
      "source": [
        "from sklearn.preprocessing import MinMaxScaler\n"
      ],
      "metadata": {
        "id": "krEmCJzw_ZX9"
      },
      "execution_count": null,
      "outputs": []
    }
  ]
}